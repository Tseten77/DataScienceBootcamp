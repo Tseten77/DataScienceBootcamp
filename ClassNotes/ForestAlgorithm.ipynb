{
  "nbformat": 4,
  "nbformat_minor": 0,
  "metadata": {
    "colab": {
      "provenance": [],
      "authorship_tag": "ABX9TyNLLTkrOecyScEjq7UeGsU0",
      "include_colab_link": true
    },
    "kernelspec": {
      "name": "python3",
      "display_name": "Python 3"
    },
    "language_info": {
      "name": "python"
    }
  },
  "cells": [
    {
      "cell_type": "markdown",
      "metadata": {
        "id": "view-in-github",
        "colab_type": "text"
      },
      "source": [
        "<a href=\"https://colab.research.google.com/github/Tseten77/DataScienceBootcamp/blob/main/ClassNotes/ForestAlgorithm.ipynb\" target=\"_parent\"><img src=\"https://colab.research.google.com/assets/colab-badge.svg\" alt=\"Open In Colab\"/></a>"
      ]
    },
    {
      "cell_type": "code",
      "execution_count": 4,
      "metadata": {
        "id": "s6nlpZOZfD5H"
      },
      "outputs": [],
      "source": [
        "import pandas as pd\n",
        "df=pd.read_csv(\"iris.csv\")\n",
        "X=df.iloc[:,:4]\n",
        "Y=df.iloc[:,4]"
      ]
    },
    {
      "cell_type": "code",
      "source": [
        "from sklearn.model_selection import train_test_split\n",
        "X_train, X_test, Y_train, Y_test=train_test_split(X,Y,test_size=.2)"
      ],
      "metadata": {
        "id": "hMKVaMbzf3NO"
      },
      "execution_count": 5,
      "outputs": []
    },
    {
      "cell_type": "code",
      "source": [
        "from sklearn.ensemble import RandomForestClassifier"
      ],
      "metadata": {
        "id": "mqdnvWKIgsVl"
      },
      "execution_count": 6,
      "outputs": []
    },
    {
      "cell_type": "code",
      "source": [
        "random=RandomForestClassifier()\n",
        "random.fit(X_train,Y_train)\n",
        "\n",
        "pred_lbls=random.predict(X_test)\n",
        "print(pred_lbls)"
      ],
      "metadata": {
        "id": "WzdrCiLtgzc1",
        "colab": {
          "base_uri": "https://localhost:8080/"
        },
        "outputId": "4fd5fa91-5ee9-40e4-ec28-b5a85dc5a181"
      },
      "execution_count": 8,
      "outputs": [
        {
          "output_type": "stream",
          "name": "stdout",
          "text": [
            "['Versicolor' 'Virginica' 'Virginica' 'Setosa' 'Virginica' 'Versicolor'\n",
            " 'Versicolor' 'Virginica' 'Setosa' 'Versicolor' 'Virginica' 'Versicolor'\n",
            " 'Versicolor' 'Versicolor' 'Versicolor' 'Versicolor' 'Setosa' 'Virginica'\n",
            " 'Setosa' 'Setosa' 'Versicolor' 'Setosa' 'Virginica' 'Virginica'\n",
            " 'Virginica' 'Versicolor' 'Versicolor' 'Versicolor' 'Virginica' 'Setosa']\n"
          ]
        }
      ]
    },
    {
      "cell_type": "code",
      "source": [
        "correct = 0\n",
        "for k in range(len(pred_lbls)):\n",
        "  if pred_lbls[k]==Y_test.iloc[k]:\n",
        "    correct=correct+1\n",
        "print(correct/len(pred_lbls))"
      ],
      "metadata": {
        "colab": {
          "base_uri": "https://localhost:8080/"
        },
        "id": "XXOXXCl-hEmn",
        "outputId": "9874651e-e536-4f28-9d46-70db1b7f022a"
      },
      "execution_count": 9,
      "outputs": [
        {
          "output_type": "stream",
          "name": "stdout",
          "text": [
            "0.9333333333333333\n"
          ]
        }
      ]
    }
  ]
}