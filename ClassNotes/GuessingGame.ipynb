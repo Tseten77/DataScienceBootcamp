{
  "nbformat": 4,
  "nbformat_minor": 0,
  "metadata": {
    "colab": {
      "provenance": [],
      "authorship_tag": "ABX9TyO3VsJGSqa6Y+K6044BOOuL",
      "include_colab_link": true
    },
    "kernelspec": {
      "name": "python3",
      "display_name": "Python 3"
    },
    "language_info": {
      "name": "python"
    }
  },
  "cells": [
    {
      "cell_type": "markdown",
      "metadata": {
        "id": "view-in-github",
        "colab_type": "text"
      },
      "source": [
        "<a href=\"https://colab.research.google.com/github/Tseten77/DataScienceBootcamp/blob/main/ClassNotes/GuessingGame.ipynb\" target=\"_parent\"><img src=\"https://colab.research.google.com/assets/colab-badge.svg\" alt=\"Open In Colab\"/></a>"
      ]
    },
    {
      "cell_type": "markdown",
      "source": [
        "Guessing Game: Write a program that generates a random number between 1 and 100. Ask the user to guess the number. For each guess, provide a hint whether the guess is too high or too low. The game should continue until the user correctly guesses the number. Use a while loop for this.\n",
        "has context menu"
      ],
      "metadata": {
        "id": "YL6NiWoun8xB"
      }
    },
    {
      "cell_type": "code",
      "source": [
        "import random\n",
        "a=list(range(1,101))\n",
        "val=random.choice(a)\n",
        "guess=False\n",
        "\n",
        "while True:\n",
        "  user_choice=int(input(\"Please choose a number: \"))\n",
        "  if user_choice>val:\n",
        "    print(\"Number is too high guess again.\")\n",
        "  elif user_choice<val:\n",
        "    print(\"Number is too low guess again.\")\n",
        "  else:\n",
        "    print(\"Guessed correctly\")\n",
        "    break"
      ],
      "metadata": {
        "colab": {
          "base_uri": "https://localhost:8080/"
        },
        "id": "OY3WIH8mn-X9",
        "outputId": "ed00ca1f-4f3c-4cf0-d08f-88cc86b5fae2"
      },
      "execution_count": null,
      "outputs": [
        {
          "output_type": "stream",
          "name": "stdout",
          "text": [
            "Please choose a number: 100\n",
            "Number is too high guess again.\n",
            "Please choose a number: 20\n",
            "Number is too high guess again.\n",
            "Please choose a number: 23\n",
            "Number is too high guess again.\n",
            "Please choose a number: 24\n",
            "Number is too high guess again.\n",
            "Please choose a number: 1\n",
            "Number is too low guess again.\n",
            "Please choose a number: 9\n",
            "Number is too low guess again.\n",
            "Please choose a number: 11\n",
            "Number is too low guess again.\n",
            "Please choose a number: 56\n",
            "Number is too high guess again.\n",
            "Please choose a number: 55\n",
            "Number is too high guess again.\n"
          ]
        }
      ]
    }
  ]
}