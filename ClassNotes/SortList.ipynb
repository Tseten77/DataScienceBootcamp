{
  "nbformat": 4,
  "nbformat_minor": 0,
  "metadata": {
    "colab": {
      "provenance": [],
      "authorship_tag": "ABX9TyMipwJCKuJB9nVRSJH9tXvx",
      "include_colab_link": true
    },
    "kernelspec": {
      "name": "python3",
      "display_name": "Python 3"
    },
    "language_info": {
      "name": "python"
    }
  },
  "cells": [
    {
      "cell_type": "markdown",
      "metadata": {
        "id": "view-in-github",
        "colab_type": "text"
      },
      "source": [
        "<a href=\"https://colab.research.google.com/github/Tseten77/DataScienceBootcamp/blob/main/ClassNotes/SortList.ipynb\" target=\"_parent\"><img src=\"https://colab.research.google.com/assets/colab-badge.svg\" alt=\"Open In Colab\"/></a>"
      ]
    },
    {
      "cell_type": "code",
      "execution_count": 4,
      "metadata": {
        "id": "qr7TtHjfll3T"
      },
      "outputs": [],
      "source": []
    },
    {
      "cell_type": "markdown",
      "source": [
        "Write a Python program to get a list, sorted in increasing order by the last element in each tuple from a given list of non-empty tuples.\n",
        "\n",
        "Sample List : [(2, 5), (1, 2), (4, 4), (2, 3), (2, 1)]"
      ],
      "metadata": {
        "id": "Z5Zw3i1_ls41"
      }
    },
    {
      "cell_type": "code",
      "source": [
        "def return_last_val(tuple):\n",
        "  return tuple[-1]\n",
        "\n",
        "Sample_list = [(2, 5), (1, 2), (4, 4), (2, 3), (2, 1)]\n",
        "Sample_list.sort(key = return_last_val)\n",
        "print(\"Here is the sorted list: \", Sample_list)"
      ],
      "metadata": {
        "colab": {
          "base_uri": "https://localhost:8080/"
        },
        "id": "gEE5CfpxltwA",
        "outputId": "620ff821-8982-4821-8581-68a79978ad52"
      },
      "execution_count": 8,
      "outputs": [
        {
          "output_type": "stream",
          "name": "stdout",
          "text": [
            "Here is the sorted list:  [(2, 1), (1, 2), (2, 3), (4, 4), (2, 5)]\n"
          ]
        }
      ]
    }
  ]
}