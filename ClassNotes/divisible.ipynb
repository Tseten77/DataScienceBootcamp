{
  "nbformat": 4,
  "nbformat_minor": 0,
  "metadata": {
    "colab": {
      "provenance": [],
      "authorship_tag": "ABX9TyOb8EfucAPvp6lTqfL7ylpM",
      "include_colab_link": true
    },
    "kernelspec": {
      "name": "python3",
      "display_name": "Python 3"
    },
    "language_info": {
      "name": "python"
    }
  },
  "cells": [
    {
      "cell_type": "markdown",
      "metadata": {
        "id": "view-in-github",
        "colab_type": "text"
      },
      "source": [
        "<a href=\"https://colab.research.google.com/github/Tseten77/DataScienceBootcamp/blob/main/ClassNotes/divisible.ipynb\" target=\"_parent\"><img src=\"https://colab.research.google.com/assets/colab-badge.svg\" alt=\"Open In Colab\"/></a>"
      ]
    },
    {
      "cell_type": "code",
      "execution_count": null,
      "metadata": {
        "id": "CsDc3qmskuoF"
      },
      "outputs": [],
      "source": [
        "result = []\n",
        "for num in range(1500, 2700):\n",
        "    if num % 7 == 0 and num % 5 == 0:\n",
        "        result.append(num)\n",
        "\n",
        "print(\"Numbers that are divisible by 7 and multiple of 5: \", result)"
      ]
    }
  ]
}